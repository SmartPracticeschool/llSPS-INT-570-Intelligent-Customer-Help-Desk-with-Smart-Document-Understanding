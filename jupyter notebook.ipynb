{
 "cells": [
  {
   "cell_type": "code",
   "execution_count": 1,
   "metadata": {},
   "outputs": [
    {
     "name": "stderr",
     "output_type": "stream",
     "text": [
      "Cloning into 'Lab4-Adding-Discovery-to-Chatbot'...\n"
     ]
    }
   ],
   "source": [
    "%%bash\n",
    "mkdir lab4\n",
    "cd lab4\n",
    "git clone https://github.com/sophiajwchoi/Lab4-Adding-Discovery-to-Chatbot.git"
   ]
  },
  {
   "cell_type": "code",
   "execution_count": 2,
   "metadata": {},
   "outputs": [
    {
     "name": "stdout",
     "output_type": "stream",
     "text": [
      "Collecting package metadata (current_repodata.json): ...working... done\n",
      "Solving environment: ...working... done\n",
      "\n",
      "## Package Plan ##\n",
      "\n",
      "  environment location: /home/jupyterlab/conda/envs/python\n",
      "\n",
      "  added / updated specs:\n",
      "    - nodejs\n",
      "\n",
      "\n",
      "The following packages will be downloaded:\n",
      "\n",
      "    package                    |            build\n",
      "    ---------------------------|-----------------\n",
      "    ca-certificates-2020.1.1   |                0         125 KB\n",
      "    certifi-2020.4.5.1         |           py36_0         155 KB\n",
      "    nodejs-10.13.0             |       he6710b0_0        13.0 MB\n",
      "    openssl-1.1.1g             |       h7b6447c_0         2.5 MB\n",
      "    ------------------------------------------------------------\n",
      "                                           Total:        15.8 MB\n",
      "\n",
      "The following packages will be SUPERSEDED by a higher-priority channel:\n",
      "\n",
      "  ca-certificates    conda-forge::ca-certificates-2020.4.5~ --> pkgs/main::ca-certificates-2020.1.1-0\n",
      "  certifi            conda-forge::certifi-2020.4.5.1-py36h~ --> pkgs/main::certifi-2020.4.5.1-py36_0\n",
      "  nodejs             conda-forge::nodejs-10.15.3-hf484d3e_0 --> pkgs/main::nodejs-10.13.0-he6710b0_0\n",
      "  openssl            conda-forge::openssl-1.1.1g-h516909a_0 --> pkgs/main::openssl-1.1.1g-h7b6447c_0\n",
      "\n",
      "\n",
      "\n",
      "Downloading and Extracting Packages\n",
      "ca-certificates-2020 | 125 KB    | ########## | 100% \n",
      "openssl-1.1.1g       | 2.5 MB    | ########## | 100% \n",
      "certifi-2020.4.5.1   | 155 KB    | ########## | 100% \n",
      "nodejs-10.13.0       | 13.0 MB   | ########## | 100% \n",
      "Preparing transaction: ...working... done\n",
      "Verifying transaction: ...working... done\n",
      "Executing transaction: ...working... done\n",
      "make: Entering directory '/resources/lab4/Lab4-Adding-Discovery-to-Chatbot/node_modules/websocket/build'\n",
      "  CXX(target) Release/obj.target/bufferutil/src/bufferutil.o\n",
      "  SOLINK_MODULE(target) Release/obj.target/bufferutil.node\n",
      "  COPY Release/bufferutil.node\n",
      "  CXX(target) Release/obj.target/validation/src/validation.o\n",
      "  SOLINK_MODULE(target) Release/obj.target/validation.node\n",
      "  COPY Release/validation.node\n",
      "make: Leaving directory '/resources/lab4/Lab4-Adding-Discovery-to-Chatbot/node_modules/websocket/build'\n",
      "added 130 packages from 178 contributors and audited 130 packages in 256.957s\n",
      "found 2 high severity vulnerabilities\n",
      "  run `npm audit fix` to fix them, or `npm audit` for details\n"
     ]
    }
   ],
   "source": [
    "%%bash\n",
    "cd /resources/lab4/Lab4-Adding-Discovery-to-Chatbot\n",
    "export npm_config_loglevel=silent\n",
    "conda config --set notify_outdated_conda false\n",
    "conda install nodejs -y\n",
    "rm -f ~/.npmrc\n",
    "npm install"
   ]
  },
  {
   "cell_type": "code",
   "execution_count": 4,
   "metadata": {},
   "outputs": [
    {
     "name": "stdout",
     "output_type": "stream",
     "text": [
      "API endpoint: https://cloud.ibm.com\n",
      "\n",
      "Email> info.taritsengupta01@gmail.com\n",
      "\n",
      "Password> \n",
      "Authenticating...\n",
      "OK\n",
      "\n",
      "Targeted account Tarit Sengupta's Account (45fc841e490e42a28931b1f50c4271ed)\n",
      "\n",
      "                      \n",
      "API endpoint:      https://cloud.ibm.com   \n",
      "Region:               \n",
      "User:              info.taritsengupta01@gmail.com   \n",
      "Account:           Tarit Sengupta's Account (45fc841e490e42a28931b1f50c4271ed)   \n",
      "Resource group:    No resource group targeted, use 'ibmcloud target -g RESOURCE_GROUP'   \n",
      "CF API endpoint:      \n",
      "Org:                  \n",
      "Space:                \n"
     ]
    }
   ],
   "source": [
    "%%bash\n",
    "ibmcloud config --check-version=false\n",
    "ibmcloud login --no-region\n",
    "info.taritsengupta01@gmail.com\n",
    "Wz85%WHHx*Ek_Pv"
   ]
  },
  {
   "cell_type": "code",
   "execution_count": 6,
   "metadata": {},
   "outputs": [
    {
     "name": "stdout",
     "output_type": "stream",
     "text": [
      "Getting orgs in all regions as info.taritsengupta01@gmail.com...\n",
      "Retrieving current account...\n",
      "OK\n",
      "\n",
      "Name                             Region   Account owner                    Account ID                         Status   \n",
      "info.taritsengupta01@gmail.com   eu-gb    info.taritsengupta01@gmail.com   45fc841e490e42a28931b1f50c4271ed   active   \n",
      "\n"
     ]
    }
   ],
   "source": [
    "%%bash\n",
    "ibmcloud account orgs"
   ]
  },
  {
   "cell_type": "code",
   "execution_count": 21,
   "metadata": {},
   "outputs": [
    {
     "name": "stdout",
     "output_type": "stream",
     "text": [
      "Switched to region eu-gb\n",
      "\n",
      "Targeted Cloud Foundry (https://api.eu-gb.bluemix.net)\n",
      "\n",
      "Targeted org info.taritsengupta01@gmail.com\n",
      "\n",
      "\n",
      "                      \n",
      "API endpoint:      https://cloud.ibm.com   \n",
      "Region:            eu-gb   \n",
      "User:              info.taritsengupta01@gmail.com   \n",
      "Account:           Tarit Sengupta's Account (45fc841e490e42a28931b1f50c4271ed)   \n",
      "Resource group:    No resource group targeted, use 'ibmcloud target -g RESOURCE_GROUP'   \n",
      "CF API endpoint:   https://api.eu-gb.bluemix.net (API version: 2.147.0)   \n",
      "Org:               info.taritsengupta01@gmail.com   \n",
      "Space:                \n",
      "Creating space lab4 in org info.taritsengupta01@gmail.com as info.taritsengupta01@gmail.com...\n",
      "OK\n",
      "Assigning role SpaceManager to user info.taritsengupta01@gmail.com in org info.taritsengupta01@gmail.com / space lab4 as info.taritsengupta01@gmail.com...\n",
      "OK\n",
      "Assigning role SpaceDeveloper to user info.taritsengupta01@gmail.com in org info.taritsengupta01@gmail.com / space lab4 as info.taritsengupta01@gmail.com...\n",
      "OK\n"
     ]
    }
   ],
   "source": [
    "%%bash\n",
    "ibmcloud target --cf-api 'https://api.eu-gb.bluemix.net' -r eu-gb -o info.taritsengupta01@gmail.com\n",
    "ibmcloud account space-create 'lab4'"
   ]
  },
  {
   "cell_type": "code",
   "execution_count": 22,
   "metadata": {},
   "outputs": [
    {
     "name": "stdout",
     "output_type": "stream",
     "text": [
      "Targeted space lab4\n",
      "\n",
      "\n",
      "                      \n",
      "API endpoint:      https://cloud.ibm.com   \n",
      "Region:            eu-gb   \n",
      "User:              info.taritsengupta01@gmail.com   \n",
      "Account:           Tarit Sengupta's Account (45fc841e490e42a28931b1f50c4271ed)   \n",
      "Resource group:    No resource group targeted, use 'ibmcloud target -g RESOURCE_GROUP'   \n",
      "CF API endpoint:   https://api.eu-gb.bluemix.net (API version: 2.147.0)   \n",
      "Org:               info.taritsengupta01@gmail.com   \n",
      "Space:             lab4   \n",
      "Looking up 'cloud-functions' from repository 'IBM Cloud'...\n",
      "Plug-in 'cloud-functions/wsk/functions/fn 1.0.39' found in repository 'IBM Cloud'\n",
      "Attempting to download the binary file...\n",
      " 13.10 MiB / 13.10 MiB  100.00% 1s7s\n",
      "13735265 bytes downloaded\n",
      "Installing binary...\n",
      "OK\n",
      "Plug-in 'cloud-functions 1.0.39' was successfully installed into /home/jupyterlab/.bluemix/plugins/cloud-functions. Use 'ibmcloud plugin show cloud-functions' to show its details.\n",
      "/home/jupyterlab/conda/envs/python/bin/slss -> /home/jupyterlab/conda/envs/python/lib/node_modules/serverless/bin/serverless.js\n",
      "/home/jupyterlab/conda/envs/python/bin/serverless -> /home/jupyterlab/conda/envs/python/lib/node_modules/serverless/bin/serverless.js\n",
      "/home/jupyterlab/conda/envs/python/bin/sls -> /home/jupyterlab/conda/envs/python/lib/node_modules/serverless/bin/serverless.js\n",
      " +--------------------------------------------------+\n",
      " |                                                  |\n",
      " |  Serverless Framework successfully installed!    |\n",
      " |  To start your first project, run “serverless”.  |\n",
      " |                                                  |\n",
      " +--------------------------------------------------+\n",
      "\n",
      "+ serverless@1.51.0\n",
      "updated 1 package in 35.823s\n",
      "Manage Cloud Functions\n",
      "Usage:\n",
      "  wsk [command]\n",
      "\n",
      "Available Commands:\n",
      "  action      work with actions\n",
      "  activation  work with activations\n",
      "  package     work with packages\n",
      "  rule        work with rules\n",
      "  trigger     work with triggers\n",
      "  sdk         work with the sdk\n",
      "  list        list entities in the current namespace\n",
      "  api         work with APIs\n",
      "  service     Bind and unbind service credentials to an action or package.\n",
      "  deploy      Deploy a collection of packages, actions, triggers and rules with a deployment manifest file\n",
      "  undeploy    Undeploy a previously deployed collection of packages, actions, triggers and rules\n",
      "  property    work with whisk properties\n",
      "  namespace   Work with IAM-based and Cloud Foundry-based namespaces.\n",
      "\n",
      "\n",
      "Flags:\n",
      "      --apihost HOST         whisk API HOST\n",
      "      --apiversion VERSION   whisk API VERSION\n",
      "  -u, --auth KEY             authorization KEY\n",
      "  -d, --debug                debug level output\n",
      "  -i, --insecure             bypass certificate checking\n",
      "  -v, --verbose              verbose output\n",
      "\n",
      "Use \"wsk [command] --help\" for more information about a command.\n",
      "Entities in namespace: default\n",
      "packages\n",
      "actions\n",
      "triggers\n",
      "rules\n",
      "Serverless: Packaging service...\n",
      "Serverless: Excluding development dependencies...\n",
      "Serverless: Compiling Functions...\n",
      "Serverless: Compiling Packages...\n",
      "Serverless: Compiling API Gateway definitions...\n",
      "Serverless: Compiling Rules...\n",
      "Serverless: Compiling Triggers & Feeds...\n",
      "Serverless: Compiling Service Bindings...\n",
      "Serverless: Deploying Packages...\n",
      "Serverless: Deploying Functions...\n",
      "Serverless: Deployment successful!\n",
      "\n",
      "Service Information\n",
      "platform:\teu-gb.functions.cloud.ibm.com\n",
      "namespace:\t_\n",
      "service:\tlab-4\n",
      "\n",
      "packages:\n",
      "lab4\n",
      "\n",
      "actions:\n",
      "lab4/connectDiscovery\n",
      "\n",
      "triggers:\n",
      "**no triggers deployed**\n",
      "\n",
      "rules:\n",
      "**no rules deployed**\n",
      "\n",
      "endpoints (api-gw):\n",
      "**no routes deployed**\n",
      "\n",
      "endpoints (web actions):\n",
      "**no web actions deployed**\n",
      "\n"
     ]
    }
   ],
   "source": [
    "%%bash\n",
    "cd /resources/lab4/Lab4-Adding-Discovery-to-Chatbot\n",
    "ibmcloud target -s lab4\n",
    "ibmcloud plugin install cloud-functions -f\n",
    "export npm_config_loglevel=silent\n",
    "npm install -g serverless@1.51.0\n",
    "ibmcloud fn --apihost eu-gb.functions.cloud.ibm.com\n",
    "ibmcloud fn list --apihost eu-gb.functions.cloud.ibm.com\n",
    "serverless deploy\n"
   ]
  },
  {
   "cell_type": "code",
   "execution_count": 23,
   "metadata": {},
   "outputs": [
    {
     "name": "stdout",
     "output_type": "stream",
     "text": [
      "Entities in namespace: \u001b[1mdefault\u001b[0m\n",
      "\u001b[1mpackages\n",
      "\u001b[0m/info.taritsengupta01@gmail.com_lab4/lab4                              private\n",
      "\u001b[1mactions\n",
      "\u001b[0m/info.taritsengupta01@gmail.com_lab4/lab4/connectDiscovery             private nodejs:10\n",
      "\u001b[1mtriggers\u001b[0m\n",
      "\u001b[1mrules\u001b[0m\n"
     ]
    }
   ],
   "source": [
    "!ibmcloud fn list"
   ]
  },
  {
   "cell_type": "code",
   "execution_count": null,
   "metadata": {},
   "outputs": [],
   "source": []
  }
 ],
 "metadata": {
  "kernelspec": {
   "display_name": "Python",
   "language": "python",
   "name": "conda-env-python-py"
  },
  "language_info": {
   "codemirror_mode": {
    "name": "ipython",
    "version": 3
   },
   "file_extension": ".py",
   "mimetype": "text/x-python",
   "name": "python",
   "nbconvert_exporter": "python",
   "pygments_lexer": "ipython3",
   "version": "3.6.10"
  }
 },
 "nbformat": 4,
 "nbformat_minor": 4
}
